{
 "cells": [
  {
   "cell_type": "code",
   "execution_count": 53,
   "id": "222f092b-7e40-4471-9168-8b730d6bb7a6",
   "metadata": {},
   "outputs": [],
   "source": [
    "import torch\n",
    "from transformers import AutoTokenizer, AutoModelForCausalLM"
   ]
  },
  {
   "cell_type": "code",
   "execution_count": 2,
   "id": "78106bc7-6d59-40c1-85b3-93cbf545d2c3",
   "metadata": {},
   "outputs": [],
   "source": [
    "model_repo = 'gpt2'"
   ]
  },
  {
   "cell_type": "code",
   "execution_count": 18,
   "id": "b6c8ed6c-6d3e-4b37-bc75-14199b2d43cd",
   "metadata": {},
   "outputs": [],
   "source": [
    "tokenizer = AutoTokenizer.from_pretrained(model_repo)\n",
    "model = AutoModelForCausalLM.from_pretrained(model_repo)\n",
    "tokenizer.pad_token_id = tokenizer.eos_token_id"
   ]
  },
  {
   "cell_type": "code",
   "execution_count": 35,
   "id": "bf475f05-156c-45e6-9b0e-c6b23c3e97eb",
   "metadata": {},
   "outputs": [],
   "source": [
    "prompt = 'How to walk a cat'"
   ]
  },
  {
   "cell_type": "code",
   "execution_count": 36,
   "id": "9765b597-03f1-469b-b71e-737c786897fc",
   "metadata": {},
   "outputs": [
    {
     "data": {
      "text/plain": [
       "{'input_ids': tensor([[2437,  284, 2513,  257, 3797]]), 'attention_mask': tensor([[1, 1, 1, 1, 1]])}"
      ]
     },
     "execution_count": 36,
     "metadata": {},
     "output_type": "execute_result"
    }
   ],
   "source": [
    "inputs = tokenizer(prompt, return_tensors='pt')\n",
    "inputs"
   ]
  },
  {
   "cell_type": "code",
   "execution_count": 22,
   "id": "dafe00f5-78c6-4589-b22e-0606d0d92a7b",
   "metadata": {},
   "outputs": [
    {
     "name": "stderr",
     "output_type": "stream",
     "text": [
      "Setting `pad_token_id` to `eos_token_id`:50256 for open-end generation.\n"
     ]
    },
    {
     "name": "stdout",
     "output_type": "stream",
     "text": [
      "tensor([[2437,  284,  787,  257, 8263,  286,  257, 2095,  198,  198,  464,  717,\n",
      "         1517,  345,  761,  284,  466,  318,  284, 3197]])\n"
     ]
    },
    {
     "data": {
      "text/plain": [
       "['How to make a drawing of a character\\n\\nThe first thing you need to do is to draw']"
      ]
     },
     "execution_count": 22,
     "metadata": {},
     "output_type": "execute_result"
    }
   ],
   "source": [
    "outputs = model.generate(**inputs)\n",
    "print(outputs)\n",
    "tokenizer.batch_decode(outputs)"
   ]
  },
  {
   "cell_type": "code",
   "execution_count": 37,
   "id": "d521a157-5e29-4536-a3c3-5893e50407ec",
   "metadata": {},
   "outputs": [
    {
     "data": {
      "text/plain": [
       "torch.Size([1, 5, 768])"
      ]
     },
     "execution_count": 37,
     "metadata": {},
     "output_type": "execute_result"
    }
   ],
   "source": [
    "# temporary\n",
    "input_embeds = model.get_input_embeddings()(inputs.input_ids)\n",
    "input_embeds.size()"
   ]
  },
  {
   "cell_type": "code",
   "execution_count": 38,
   "id": "2b2716f9-6dd2-46d7-963a-f022fb6ea66f",
   "metadata": {},
   "outputs": [
    {
     "name": "stderr",
     "output_type": "stream",
     "text": [
      "The attention mask and the pad token id were not set. As a consequence, you may observe unexpected behavior. Please pass your input's `attention_mask` to obtain reliable results.\n",
      "Setting `pad_token_id` to `eos_token_id`:50256 for open-end generation.\n"
     ]
    },
    {
     "data": {
      "text/plain": [
       "tensor([[50256,   198,   198,   464,  3797,   318,   257,   845,  1593,   636,\n",
       "           286,   262,  3797,   338,  1204,    13,   632,   318,   262,   749]])"
      ]
     },
     "execution_count": 38,
     "metadata": {},
     "output_type": "execute_result"
    }
   ],
   "source": [
    "output_embed = model.generate(inputs_embeds=input_embeds)\n",
    "output_embed"
   ]
  },
  {
   "cell_type": "code",
   "execution_count": 39,
   "id": "aefa0801-5c13-4a56-a9ec-a5b2e7a2d29d",
   "metadata": {},
   "outputs": [
    {
     "data": {
      "text/plain": [
       "[\"<|endoftext|>\\n\\nThe cat is a very important part of the cat's life. It is the most\"]"
      ]
     },
     "execution_count": 39,
     "metadata": {},
     "output_type": "execute_result"
    }
   ],
   "source": [
    "tokenizer.batch_decode(output_embed)"
   ]
  },
  {
   "cell_type": "code",
   "execution_count": 42,
   "id": "bc0a7639-8b97-45a9-b586-b92b481dbff2",
   "metadata": {},
   "outputs": [
    {
     "data": {
      "text/plain": [
       "torch.Size([1, 20])"
      ]
     },
     "execution_count": 42,
     "metadata": {},
     "output_type": "execute_result"
    }
   ],
   "source": [
    "output_embed.size()"
   ]
  },
  {
   "cell_type": "code",
   "execution_count": 43,
   "id": "00594750-878b-471a-9ed4-5c915093f62c",
   "metadata": {},
   "outputs": [
    {
     "data": {
      "text/plain": [
       "torch.Size([1, 5, 768])"
      ]
     },
     "execution_count": 43,
     "metadata": {},
     "output_type": "execute_result"
    }
   ],
   "source": [
    "input_embeds.size()"
   ]
  },
  {
   "cell_type": "code",
   "execution_count": 46,
   "id": "c4b4b860-2f7b-47bd-94e3-49fae7b87944",
   "metadata": {},
   "outputs": [
    {
     "data": {
      "text/plain": [
       "torch.Size([1, 5])"
      ]
     },
     "execution_count": 46,
     "metadata": {},
     "output_type": "execute_result"
    }
   ],
   "source": [
    "inputs.input_ids.size()"
   ]
  },
  {
   "cell_type": "code",
   "execution_count": 48,
   "id": "3ca5faa2-f854-4dfa-acd8-a77ef2d7522a",
   "metadata": {},
   "outputs": [
    {
     "data": {
      "text/plain": [
       "tensor([[2437,  284,  787,  257, 8263,  286,  257, 2095,  198,  198,  464,  717,\n",
       "         1517,  345,  761,  284,  466,  318,  284, 3197]])"
      ]
     },
     "execution_count": 48,
     "metadata": {},
     "output_type": "execute_result"
    }
   ],
   "source": [
    "outputs"
   ]
  },
  {
   "cell_type": "code",
   "execution_count": 58,
   "id": "febb5914-1c42-4738-a478-a186ee1bf685",
   "metadata": {},
   "outputs": [
    {
     "data": {
      "text/plain": [
       "tensor([[2437,  284, 2513,  257, 3797, 2437,  284,  787,  257, 8263,  286,  257,\n",
       "         2095,  198,  198,  464,  717, 1517,  345,  761,  284,  466,  318,  284,\n",
       "         3197]])"
      ]
     },
     "execution_count": 58,
     "metadata": {},
     "output_type": "execute_result"
    }
   ],
   "source": [
    "ok = torch.cat([inputs.input_ids, outputs], dim=-1)\n",
    "ok"
   ]
  },
  {
   "cell_type": "code",
   "execution_count": 68,
   "id": "31c7de60-dab2-4eaf-81ef-d118fde5afc2",
   "metadata": {},
   "outputs": [],
   "source": [
    "# model(input_ids=ok[:, :-1], labels=ok[:, 1:])"
   ]
  },
  {
   "cell_type": "code",
   "execution_count": 85,
   "id": "6d6d32b7-b2bc-48ad-8b17-4524203984d6",
   "metadata": {},
   "outputs": [
    {
     "data": {
      "text/plain": [
       "torch.Size([1, 15, 768])"
      ]
     },
     "execution_count": 85,
     "metadata": {},
     "output_type": "execute_result"
    }
   ],
   "source": [
    "inputs_embeds = model.get_input_embeddings()(ok[:, :-10])\n",
    "inputs_embeds.size()"
   ]
  },
  {
   "cell_type": "code",
   "execution_count": 87,
   "id": "05711a1b-6b34-4f44-8d14-3460112e12b9",
   "metadata": {},
   "outputs": [],
   "source": [
    "# model(inputs_embeds=inputs_embeds, labels=ok[:, 10:])"
   ]
  },
  {
   "cell_type": "code",
   "execution_count": null,
   "id": "7cf742a1-e710-47df-abe8-07e7c7fbbd45",
   "metadata": {},
   "outputs": [],
   "source": []
  }
 ],
 "metadata": {
  "kernelspec": {
   "display_name": "Python 3 (ipykernel)",
   "language": "python",
   "name": "python3"
  },
  "language_info": {
   "codemirror_mode": {
    "name": "ipython",
    "version": 3
   },
   "file_extension": ".py",
   "mimetype": "text/x-python",
   "name": "python",
   "nbconvert_exporter": "python",
   "pygments_lexer": "ipython3",
   "version": "3.9.18"
  }
 },
 "nbformat": 4,
 "nbformat_minor": 5
}
